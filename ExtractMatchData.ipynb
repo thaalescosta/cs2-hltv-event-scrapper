{
 "cells": [
  {
   "cell_type": "markdown",
   "metadata": {},
   "source": [
    "### **Install dependencies**"
   ]
  },
  {
   "cell_type": "code",
   "execution_count": 1,
   "metadata": {
    "scrolled": true
   },
   "outputs": [],
   "source": [
    "# !pip install -r requirements.txt"
   ]
  },
  {
   "cell_type": "markdown",
   "metadata": {},
   "source": [
    "### **Importing the functions from python files**"
   ]
  },
  {
   "cell_type": "code",
   "execution_count": 1,
   "metadata": {},
   "outputs": [],
   "source": [
    "from ExtractMatchData._functions.get_matches_url import get_matches_url\n",
    "from ExtractMatchData._functions.get_match_id import get_match_ids\n",
    "from ExtractMatchData._functions.get_request import get_request\n",
    "from ExtractMatchData._functions.download_files import download_files\n",
    "from ExtractMatchData._functions.unrar import unrar\n",
    "from ExtractMatchData._functions.extrair_dados import run_csda_on_demos\n",
    "from ExtractMatchData._ETL.merge_files import merge_csv_files\n",
    "import os\n",
    "from ExtractMatchData._functions.chromelib import pd\n",
    "import cloudscraper\n",
    "\n",
    "# pd.set_option('display.max_columns', None)  # Show all columns\n",
    "# pd.set_option('display.width', None)  # Disable line wrapping\n",
    "# pd.set_option('display.max_colwidth', None)  # Show full column content\n",
    "\n",
    "pd.reset_option('display.max_rows')\n",
    "pd.reset_option('display.max_columns')\n",
    "pd.reset_option('display.width')\n",
    "pd.reset_option('display.max_colwidth')\n",
    "\n",
    "# -------------------------------------------------------------------------\n",
    "#   The ID of each event can be found in HLTV in either of the links below\n",
    "#   For example: \n",
    "#   https://www.hltv.org/events/7909/blast-bounty-2025-season-1-finals\n",
    "#   https://www.hltv.org/results?event=7909\n",
    "# -------------------------------------------------------------------------\n",
    "\n",
    "# id_event = [ 7909 , 8229]\n",
    "id_event = [\n",
    "    #8043,\n",
    "    # 8034,\n",
    "    # 8229,\n",
    "    7909,\n",
    "    # 7524,\n",
    "    # 7861,\n",
    "    # 7557,\n",
    "    7603\n",
    "    ]\n"
   ]
  },
  {
   "cell_type": "markdown",
   "metadata": {},
   "source": [
    "### **ACTUAL SCRAPING**"
   ]
  },
  {
   "cell_type": "code",
   "execution_count": null,
   "metadata": {},
   "outputs": [],
   "source": [
    "root = os.path.join(os.getcwd(), 'ExtractMatchData') # Get the root directory\n",
    "\n",
    "# Gets the URLs from all the matches in the event and other info into a pandas dataframe\n",
    "tournaments_df = get_matches_url(*id_event, root=root)\n",
    "\n",
    "# Get an ID for each match used in a url\n",
    "tournaments_df = get_match_ids(tournaments_df)\n",
    "\n",
    "# Makes a get request to fetch the direct links to download the demos\n",
    "tournaments_df = get_request(tournaments_df)\n",
    "                           \n",
    "# Makes the request to fetch the direct link to download the demos\n",
    "tournaments_df = download_files(tournaments_df)\n",
    "\n",
    "unrar(tournaments_df)\n",
    "\n",
    "run_csda_on_demos(tournaments_df)\n",
    "\n",
    "match_data = merge_csv_files(tournaments_df)"
   ]
  },
  {
   "cell_type": "code",
   "execution_count": 3,
   "metadata": {},
   "outputs": [],
   "source": [
    "import cloudscraper\n",
    "\n",
    "scraper = cloudscraper.create_scraper()\n",
    "\n",
    "url = f\"https://www.hltv.org/download/demo/93701\"\n",
    "response = scraper.get(url) # headers=headers, allow_redirects=False\n",
    "print(response)\n"
   ]
  },
  {
   "cell_type": "code",
   "execution_count": 4,
   "metadata": {},
   "outputs": [],
   "source": [
    "# Access individual DataFrames\n",
    "matches_df = match_data['_match']\n",
    "teams_df = match_data['_teams']\n",
    "kills_df = match_data['_kills']\n",
    "players_df = match_data['_players']\n",
    "players_economy_df = match_data['_players_economy']\n",
    "clutches_df = match_data['_clutches']"
   ]
  },
  {
   "cell_type": "code",
   "execution_count": null,
   "metadata": {},
   "outputs": [],
   "source": [
    "print(\"Tournaments:\")\n",
    "display(tournaments_df.head(5))\n",
    "\n",
    "print(\"\\nMatches:\")\n",
    "display(matches_df.head(5))\n",
    "\n",
    "print(\"\\nTeams:\")\n",
    "display(teams_df.head(5))\n",
    "\n",
    "print(\"\\nKills:\")\n",
    "display(kills_df.head(5))\n",
    "\n",
    "print(\"\\nPlayers:\")\n",
    "display(players_df.head(5))\n",
    "\n",
    "print(\"\\nPlayers Economy:\")\n",
    "display(players_economy_df.head(5))\n",
    "\n",
    "print(\"\\nClutches:\")\n",
    "display(clutches_df.head(5))"
   ]
  },
  {
   "cell_type": "code",
   "execution_count": null,
   "metadata": {},
   "outputs": [],
   "source": [
    "output_dir = os.path.join(os.getcwd(), \"ExtractMatchData\" ,\"tournaments_tables\")\n",
    "os.makedirs(output_dir, exist_ok=True)\n",
    "\n",
    "# Export tables to csv\n",
    "tournaments_df.to_csv(os.path.join(output_dir, \"tournaments.csv\"), index=False)\n",
    "print(f\"Saved {os.path.join(output_dir, 'tournaments.csv')}\")\n",
    "\n",
    "for name, df in match_data.items():\n",
    "    output_file = os.path.join(output_dir, f\"{name.strip('_')}.csv\")\n",
    "    df.to_csv(output_file, index=False)\n",
    "    print(f\"Saved {output_file}\")\n",
    " \n",
    "# Just exporting the tables in markdown format  \n",
    "output_file = os.path.join(output_dir, \"all_tables.txt\")\n",
    "with open(output_file, 'w') as f:\n",
    "    # First write tournaments table\n",
    "    f.write(\"\\nTournaments Table:\\n\")\n",
    "    f.write('| ' + ' | '.join(tournaments_df.columns) + ' |\\n')\n",
    "    f.write('|' + '|'.join(['---' for _ in tournaments_df.columns]) + '|\\n')\n",
    "    first_row = tournaments_df.iloc[0].astype(str)\n",
    "    f.write('| ' + ' | '.join(first_row) + ' |\\n\\n')\n",
    "    \n",
    "    # Then write all other tables\n",
    "    for name, df in match_data.items():\n",
    "        # Write table name as header\n",
    "        f.write(f\"\\n{name.strip('_')} Table:\\n\")\n",
    "        # Write header row\n",
    "        f.write('| ' + ' | '.join(df.columns) + ' |\\n')\n",
    "        # Write separator row\n",
    "        f.write('|' + '|'.join(['---' for _ in df.columns]) + '|\\n')\n",
    "        # Write first data row only\n",
    "        first_row = df.iloc[0].astype(str)\n",
    "        f.write('| ' + ' | '.join(first_row) + ' |\\n')\n",
    "        f.write('\\n') # Add blank line between tables\n",
    "    print(f\"Saved all tables to {output_file}\")"
   ]
  }
 ],
 "metadata": {
  "kernelspec": {
   "display_name": ".venv",
   "language": "python",
   "name": "python3"
  },
  "language_info": {
   "codemirror_mode": {
    "name": "ipython",
    "version": 3
   },
   "file_extension": ".py",
   "mimetype": "text/x-python",
   "name": "python",
   "nbconvert_exporter": "python",
   "pygments_lexer": "ipython3",
   "version": "3.13.1"
  }
 },
 "nbformat": 4,
 "nbformat_minor": 4
}
