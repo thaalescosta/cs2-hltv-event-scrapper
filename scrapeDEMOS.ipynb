{
 "cells": [
  {
   "cell_type": "markdown",
   "metadata": {},
   "source": [
    "### **Install dependencies**"
   ]
  },
  {
   "cell_type": "code",
   "execution_count": 1,
   "metadata": {
    "scrolled": true
   },
   "outputs": [
    {
     "name": "stdout",
     "output_type": "stream",
     "text": [
      "Requirement already satisfied: beautifulsoup4==4.13.3 in c:\\cs2-hltv-event-scrapper\\venv\\lib\\site-packages (from -r _functions/requirements.txt (line 1)) (4.13.3)\n",
      "Requirement already satisfied: pandas==2.2.3 in c:\\cs2-hltv-event-scrapper\\venv\\lib\\site-packages (from -r _functions/requirements.txt (line 2)) (2.2.3)\n",
      "Requirement already satisfied: rarfile==4.2 in c:\\cs2-hltv-event-scrapper\\venv\\lib\\site-packages (from -r _functions/requirements.txt (line 3)) (4.2)\n",
      "Requirement already satisfied: replit==4.1.0 in c:\\cs2-hltv-event-scrapper\\venv\\lib\\site-packages (from -r _functions/requirements.txt (line 4)) (4.1.0)\n",
      "Requirement already satisfied: Requests==2.32.3 in c:\\cs2-hltv-event-scrapper\\venv\\lib\\site-packages (from -r _functions/requirements.txt (line 5)) (2.32.3)\n",
      "Requirement already satisfied: selenium==4.28.1 in c:\\cs2-hltv-event-scrapper\\venv\\lib\\site-packages (from -r _functions/requirements.txt (line 6)) (4.28.1)\n",
      "Requirement already satisfied: tqdm==4.67.1 in c:\\cs2-hltv-event-scrapper\\venv\\lib\\site-packages (from -r _functions/requirements.txt (line 7)) (4.67.1)\n",
      "Requirement already satisfied: soupsieve>1.2 in c:\\cs2-hltv-event-scrapper\\venv\\lib\\site-packages (from beautifulsoup4==4.13.3->-r _functions/requirements.txt (line 1)) (2.6)\n",
      "Requirement already satisfied: typing-extensions>=4.0.0 in c:\\cs2-hltv-event-scrapper\\venv\\lib\\site-packages (from beautifulsoup4==4.13.3->-r _functions/requirements.txt (line 1)) (4.12.2)\n",
      "Requirement already satisfied: numpy>=1.26.0 in c:\\cs2-hltv-event-scrapper\\venv\\lib\\site-packages (from pandas==2.2.3->-r _functions/requirements.txt (line 2)) (2.2.3)\n",
      "Requirement already satisfied: python-dateutil>=2.8.2 in c:\\cs2-hltv-event-scrapper\\venv\\lib\\site-packages (from pandas==2.2.3->-r _functions/requirements.txt (line 2)) (2.9.0.post0)\n",
      "Requirement already satisfied: pytz>=2020.1 in c:\\cs2-hltv-event-scrapper\\venv\\lib\\site-packages (from pandas==2.2.3->-r _functions/requirements.txt (line 2)) (2025.1)\n",
      "Requirement already satisfied: tzdata>=2022.7 in c:\\cs2-hltv-event-scrapper\\venv\\lib\\site-packages (from pandas==2.2.3->-r _functions/requirements.txt (line 2)) (2025.1)\n",
      "Requirement already satisfied: Flask>=2.0.0 in c:\\cs2-hltv-event-scrapper\\venv\\lib\\site-packages (from replit==4.1.0->-r _functions/requirements.txt (line 4)) (3.1.0)\n",
      "Requirement already satisfied: Werkzeug<4,>=2 in c:\\cs2-hltv-event-scrapper\\venv\\lib\\site-packages (from replit==4.1.0->-r _functions/requirements.txt (line 4)) (3.1.3)\n",
      "Requirement already satisfied: aiohttp>=3.6.2 in c:\\cs2-hltv-event-scrapper\\venv\\lib\\site-packages (from replit==4.1.0->-r _functions/requirements.txt (line 4)) (3.11.12)\n",
      "Requirement already satisfied: aiohttp-retry<3.0.0,>=2.8.3 in c:\\cs2-hltv-event-scrapper\\venv\\lib\\site-packages (from replit==4.1.0->-r _functions/requirements.txt (line 4)) (2.9.1)\n",
      "Requirement already satisfied: protobuf<5.0.0,>=4.21.8 in c:\\cs2-hltv-event-scrapper\\venv\\lib\\site-packages (from replit==4.1.0->-r _functions/requirements.txt (line 4)) (4.25.6)\n",
      "Requirement already satisfied: pyseto<2.0.0,>=1.6.11 in c:\\cs2-hltv-event-scrapper\\venv\\lib\\site-packages (from replit==4.1.0->-r _functions/requirements.txt (line 4)) (1.8.2)\n",
      "Requirement already satisfied: urllib3<3,>=1.26 in c:\\cs2-hltv-event-scrapper\\venv\\lib\\site-packages (from replit==4.1.0->-r _functions/requirements.txt (line 4)) (2.3.0)\n",
      "Requirement already satisfied: charset-normalizer<4,>=2 in c:\\cs2-hltv-event-scrapper\\venv\\lib\\site-packages (from Requests==2.32.3->-r _functions/requirements.txt (line 5)) (3.4.1)\n",
      "Requirement already satisfied: idna<4,>=2.5 in c:\\cs2-hltv-event-scrapper\\venv\\lib\\site-packages (from Requests==2.32.3->-r _functions/requirements.txt (line 5)) (3.10)\n",
      "Requirement already satisfied: certifi>=2017.4.17 in c:\\cs2-hltv-event-scrapper\\venv\\lib\\site-packages (from Requests==2.32.3->-r _functions/requirements.txt (line 5)) (2025.1.31)\n",
      "Requirement already satisfied: trio~=0.17 in c:\\cs2-hltv-event-scrapper\\venv\\lib\\site-packages (from selenium==4.28.1->-r _functions/requirements.txt (line 6)) (0.29.0)\n",
      "Requirement already satisfied: trio-websocket~=0.9 in c:\\cs2-hltv-event-scrapper\\venv\\lib\\site-packages (from selenium==4.28.1->-r _functions/requirements.txt (line 6)) (0.11.1)\n",
      "Requirement already satisfied: websocket-client~=1.8 in c:\\cs2-hltv-event-scrapper\\venv\\lib\\site-packages (from selenium==4.28.1->-r _functions/requirements.txt (line 6)) (1.8.0)\n",
      "Requirement already satisfied: colorama in c:\\cs2-hltv-event-scrapper\\venv\\lib\\site-packages (from tqdm==4.67.1->-r _functions/requirements.txt (line 7)) (0.4.6)\n",
      "Requirement already satisfied: aiohappyeyeballs>=2.3.0 in c:\\cs2-hltv-event-scrapper\\venv\\lib\\site-packages (from aiohttp>=3.6.2->replit==4.1.0->-r _functions/requirements.txt (line 4)) (2.4.6)\n",
      "Requirement already satisfied: aiosignal>=1.1.2 in c:\\cs2-hltv-event-scrapper\\venv\\lib\\site-packages (from aiohttp>=3.6.2->replit==4.1.0->-r _functions/requirements.txt (line 4)) (1.3.2)\n",
      "Requirement already satisfied: attrs>=17.3.0 in c:\\cs2-hltv-event-scrapper\\venv\\lib\\site-packages (from aiohttp>=3.6.2->replit==4.1.0->-r _functions/requirements.txt (line 4)) (25.1.0)\n",
      "Requirement already satisfied: frozenlist>=1.1.1 in c:\\cs2-hltv-event-scrapper\\venv\\lib\\site-packages (from aiohttp>=3.6.2->replit==4.1.0->-r _functions/requirements.txt (line 4)) (1.5.0)\n",
      "Requirement already satisfied: multidict<7.0,>=4.5 in c:\\cs2-hltv-event-scrapper\\venv\\lib\\site-packages (from aiohttp>=3.6.2->replit==4.1.0->-r _functions/requirements.txt (line 4)) (6.1.0)\n",
      "Requirement already satisfied: propcache>=0.2.0 in c:\\cs2-hltv-event-scrapper\\venv\\lib\\site-packages (from aiohttp>=3.6.2->replit==4.1.0->-r _functions/requirements.txt (line 4)) (0.2.1)\n",
      "Requirement already satisfied: yarl<2.0,>=1.17.0 in c:\\cs2-hltv-event-scrapper\\venv\\lib\\site-packages (from aiohttp>=3.6.2->replit==4.1.0->-r _functions/requirements.txt (line 4)) (1.18.3)\n",
      "Requirement already satisfied: Jinja2>=3.1.2 in c:\\cs2-hltv-event-scrapper\\venv\\lib\\site-packages (from Flask>=2.0.0->replit==4.1.0->-r _functions/requirements.txt (line 4)) (3.1.5)\n",
      "Requirement already satisfied: itsdangerous>=2.2 in c:\\cs2-hltv-event-scrapper\\venv\\lib\\site-packages (from Flask>=2.0.0->replit==4.1.0->-r _functions/requirements.txt (line 4)) (2.2.0)\n",
      "Requirement already satisfied: click>=8.1.3 in c:\\cs2-hltv-event-scrapper\\venv\\lib\\site-packages (from Flask>=2.0.0->replit==4.1.0->-r _functions/requirements.txt (line 4)) (8.1.8)\n",
      "Requirement already satisfied: blinker>=1.9 in c:\\cs2-hltv-event-scrapper\\venv\\lib\\site-packages (from Flask>=2.0.0->replit==4.1.0->-r _functions/requirements.txt (line 4)) (1.9.0)\n",
      "Requirement already satisfied: argon2-cffi>=23.1.0 in c:\\cs2-hltv-event-scrapper\\venv\\lib\\site-packages (from pyseto<2.0.0,>=1.6.11->replit==4.1.0->-r _functions/requirements.txt (line 4)) (23.1.0)\n",
      "Requirement already satisfied: cryptography<45,>=42.0.1 in c:\\cs2-hltv-event-scrapper\\venv\\lib\\site-packages (from pyseto<2.0.0,>=1.6.11->replit==4.1.0->-r _functions/requirements.txt (line 4)) (44.0.1)\n",
      "Requirement already satisfied: iso8601<3.0.0,>=1.0.2 in c:\\cs2-hltv-event-scrapper\\venv\\lib\\site-packages (from pyseto<2.0.0,>=1.6.11->replit==4.1.0->-r _functions/requirements.txt (line 4)) (2.1.0)\n",
      "Requirement already satisfied: pycryptodomex>=3.18.0 in c:\\cs2-hltv-event-scrapper\\venv\\lib\\site-packages (from pyseto<2.0.0,>=1.6.11->replit==4.1.0->-r _functions/requirements.txt (line 4)) (3.21.0)\n",
      "Requirement already satisfied: six>=1.5 in c:\\cs2-hltv-event-scrapper\\venv\\lib\\site-packages (from python-dateutil>=2.8.2->pandas==2.2.3->-r _functions/requirements.txt (line 2)) (1.17.0)\n",
      "Requirement already satisfied: sortedcontainers in c:\\cs2-hltv-event-scrapper\\venv\\lib\\site-packages (from trio~=0.17->selenium==4.28.1->-r _functions/requirements.txt (line 6)) (2.4.0)\n",
      "Requirement already satisfied: outcome in c:\\cs2-hltv-event-scrapper\\venv\\lib\\site-packages (from trio~=0.17->selenium==4.28.1->-r _functions/requirements.txt (line 6)) (1.3.0.post0)\n",
      "Requirement already satisfied: sniffio>=1.3.0 in c:\\cs2-hltv-event-scrapper\\venv\\lib\\site-packages (from trio~=0.17->selenium==4.28.1->-r _functions/requirements.txt (line 6)) (1.3.1)\n",
      "Requirement already satisfied: cffi>=1.14 in c:\\cs2-hltv-event-scrapper\\venv\\lib\\site-packages (from trio~=0.17->selenium==4.28.1->-r _functions/requirements.txt (line 6)) (1.17.1)\n",
      "Requirement already satisfied: wsproto>=0.14 in c:\\cs2-hltv-event-scrapper\\venv\\lib\\site-packages (from trio-websocket~=0.9->selenium==4.28.1->-r _functions/requirements.txt (line 6)) (1.2.0)\n",
      "Requirement already satisfied: pysocks!=1.5.7,<2.0,>=1.5.6 in c:\\cs2-hltv-event-scrapper\\venv\\lib\\site-packages (from urllib3[socks]<3,>=1.26->selenium==4.28.1->-r _functions/requirements.txt (line 6)) (1.7.1)\n",
      "Requirement already satisfied: MarkupSafe>=2.1.1 in c:\\cs2-hltv-event-scrapper\\venv\\lib\\site-packages (from Werkzeug<4,>=2->replit==4.1.0->-r _functions/requirements.txt (line 4)) (3.0.2)\n",
      "Requirement already satisfied: argon2-cffi-bindings in c:\\cs2-hltv-event-scrapper\\venv\\lib\\site-packages (from argon2-cffi>=23.1.0->pyseto<2.0.0,>=1.6.11->replit==4.1.0->-r _functions/requirements.txt (line 4)) (21.2.0)\n",
      "Requirement already satisfied: pycparser in c:\\cs2-hltv-event-scrapper\\venv\\lib\\site-packages (from cffi>=1.14->trio~=0.17->selenium==4.28.1->-r _functions/requirements.txt (line 6)) (2.22)\n",
      "Requirement already satisfied: h11<1,>=0.9.0 in c:\\cs2-hltv-event-scrapper\\venv\\lib\\site-packages (from wsproto>=0.14->trio-websocket~=0.9->selenium==4.28.1->-r _functions/requirements.txt (line 6)) (0.14.0)\n"
     ]
    },
    {
     "name": "stderr",
     "output_type": "stream",
     "text": [
      "\n",
      "[notice] A new release of pip is available: 24.3.1 -> 25.0.1\n",
      "[notice] To update, run: python.exe -m pip install --upgrade pip\n"
     ]
    }
   ],
   "source": [
    "!pip install -r \"_functions/requirements.txt\""
   ]
  },
  {
   "cell_type": "markdown",
   "metadata": {},
   "source": [
    "### **Importing the functions from python files**"
   ]
  },
  {
   "cell_type": "code",
   "execution_count": 2,
   "metadata": {},
   "outputs": [],
   "source": [
    "from _functions.get_urls import get_urls\n",
    "from _functions.get_match_id import get_match_ids\n",
    "from _functions.api_request import api_request\n",
    "from _functions.download_files import download_files\n",
    "from _functions.unrar import unrar\n",
    "from _functions.extrair_dados import run_csda_on_demos\n",
    "from _ETL.merge_files import merge_csv_files\n",
    "import os"
   ]
  },
  {
   "cell_type": "code",
   "execution_count": 3,
   "metadata": {
    "scrolled": true
   },
   "outputs": [],
   "source": [
    "# -------------------------------------------------------------------------\n",
    "#   The ID of each event can be found in HLTV in either of the links below\n",
    "#   For example: \n",
    "#   https://www.hltv.org/events/7909/blast-bounty-2025-season-1-finals\n",
    "#   https://www.hltv.org/results?event=7909\n",
    "# -------------------------------------------------------------------------\n",
    "\n",
    "id_event = [\"7909\" # Blast Bounty 2025 Season 1 Finals\n",
    "            # \"7903\", # Blast Bounty 2025 Season 1 \n",
    "            # \"7524\",\n",
    "            # \"7557\"\n",
    "            ]\n",
    "\n",
    "root = os.getcwd() # Get the root directory"
   ]
  },
  {
   "cell_type": "markdown",
   "metadata": {},
   "source": [
    "### **WHAT THE ACTUAL SCRAPING DOES**\n",
    "\n",
    "#####     &emsp;**1.** Gets the URL of all matchups for each of the events\n",
    "#####     &emsp;**2.** Gets the direct links to download the demos of all matches\n",
    "#####     &emsp;**3.** Analyze all of the demos and generate data in CSVs\n",
    "#####     &emsp;**3.** Merge the CSVs into"
   ]
  },
  {
   "cell_type": "code",
   "execution_count": null,
   "metadata": {},
   "outputs": [
    {
     "name": "stdout",
     "output_type": "stream",
     "text": [
      "\u001b[H\u001b[2JEvent: BLAST Bounty 2025 Season 1 Finals\n",
      "\n",
      "1. https://www.hltv.org/matches/2378460/eternal-fire-vs-spirit-blast-bounty-2025-season-1-finals\n",
      "2. https://www.hltv.org/matches/2378459/natus-vincere-vs-spirit-blast-bounty-2025-season-1-finals\n",
      "3. https://www.hltv.org/matches/2378458/g2-vs-eternal-fire-blast-bounty-2025-season-1-finals\n",
      "4. https://www.hltv.org/matches/2378455/natus-vincere-vs-pain-blast-bounty-2025-season-1-finals\n",
      "5. https://www.hltv.org/matches/2378456/vitality-vs-eternal-fire-blast-bounty-2025-season-1-finals\n",
      "6. https://www.hltv.org/matches/2378454/g2-vs-betboom-blast-bounty-2025-season-1-finals\n",
      "7. https://www.hltv.org/matches/2378457/spirit-vs-heroic-blast-bounty-2025-season-1-finals\n",
      "Number of Matchups: 7\n",
      "\n"
     ]
    },
    {
     "name": "stderr",
     "output_type": "stream",
     "text": [
      "Fetching Match IDs:  71%|██████████████████████████████████████████████████████████████████████████████████████████████████████████████████▎                                             | 5/7 [01:17<00:31, 15.64s/match]"
     ]
    }
   ],
   "source": [
    "for id in id_event:\n",
    "    # Get URLs from all the matches in the event (and also the camp name to be used later)\n",
    "    # Example output:\n",
    "    # match_urls = [\"https://www.hltv.org/matches/2345678/blast-bounty-2025-season-1-finals\", ...]\n",
    "    # camp = \"Blast Bounty 2025 Season 1 Finals\"\n",
    "    # camp_var = \"blast-bounty-2025-season-1-finals\"\n",
    "    match_urls, camp, camp_var = get_urls(id)\n",
    "       \n",
    "    \n",
    "    # Get the URL from the download demo button request\n",
    "    match_ids = get_match_ids(*match_urls) \n",
    "\n",
    "    # Makes the request to fetch the direct link to download the demos\n",
    "    download_links = api_request(*match_ids)\n",
    "\n",
    "    # Download all demos\n",
    "    download_files(*download_links, camp=camp, raiz=raiz)\n",
    "\n",
    "    # Extract the each match .dem file from the downloaded .RAR files\n",
    "    unrar(camp=camp)\n",
    "\n",
    "    # Run csda.exe on all the .dem files to extract data into CSVs.\n",
    "    # The CSDA outputs 8 files per match\n",
    "    # Example:\n",
    "    # eternal-fire-vs-spirit-m1-anubis_players_economy.csv\n",
    "    # eternal-fire-vs-spirit-m1-anubis_rounds.csv\n",
    "    # eternal-fire-vs-spirit-m1-anubis_teams.csv\n",
    "    # eternal-fire-vs-spirit-m1-anubis_clutches.csv\n",
    "    # eternal-fire-vs-spirit-m1-anubis_kills.csv\n",
    "    # eternal-fire-vs-spirit-m1-anubis_match.csv\n",
    "    # eternal-fire-vs-spirit-m1-anubis_players.csv\n",
    "    # eternal-fire-vs-spirit-m1-anubis_players_buy.csv\n",
    "    \n",
    "    csda_path = os.path.join(root, \"csda.exe\")\n",
    "    demos_path = os.path.join(root,\"demos\", camp)\n",
    "    output_path = os.path.join(root,\"data\")\n",
    "    \n",
    "    run_csda_on_demos(csda_path, demos_path, output_path, camp)\n",
    "    \n",
    "    # Merge the CSV files per event (I may comeback to this and merge the events together as well)\n",
    "    merge_csv_files(camp, camp_var, output_path, os.path.join(root,\"gameData\"))\n",
    "\n",
    "    # You can uncomment this line out if you want to keep the CSV for each match\n",
    "    # os.rmdir(output_path)\n",
    "    "
   ]
  },
  {
   "cell_type": "code",
   "execution_count": null,
   "metadata": {},
   "outputs": [],
   "source": []
  }
 ],
 "metadata": {
  "kernelspec": {
   "display_name": "Python 3 (ipykernel)",
   "language": "python",
   "name": "python3"
  },
  "language_info": {
   "codemirror_mode": {
    "name": "ipython",
    "version": 3
   },
   "file_extension": ".py",
   "mimetype": "text/x-python",
   "name": "python",
   "nbconvert_exporter": "python",
   "pygments_lexer": "ipython3",
   "version": "3.13.2"
  }
 },
 "nbformat": 4,
 "nbformat_minor": 4
}
