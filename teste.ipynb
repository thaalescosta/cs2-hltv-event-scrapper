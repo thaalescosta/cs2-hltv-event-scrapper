{
 "cells": [
  {
   "cell_type": "markdown",
   "metadata": {},
   "source": [
    "## **1. Downloads and unpacks the demos for all chosen events**\n",
    "##### **2. Analyze the demos from all matches within chosen events**\n",
    "asa"
   ]
  },
  {
   "cell_type": "markdown",
   "metadata": {},
   "source": [
    "[Section title](#section_ID)"
   ]
  },
  {
   "cell_type": "code",
   "execution_count": 1,
   "metadata": {},
   "outputs": [
    {
     "name": "stdout",
     "output_type": "stream",
     "text": [
      "Requirement already satisfied: beautifulsoup4 in c:\\users\\thales\\appdata\\local\\programs\\python\\python313\\lib\\site-packages (from -r requirements.txt (line 1)) (4.12.3)\n",
      "Requirement already satisfied: pandas in c:\\users\\thales\\appdata\\local\\programs\\python\\python313\\lib\\site-packages (from -r requirements.txt (line 2)) (2.2.3)\n",
      "Requirement already satisfied: requests in c:\\users\\thales\\appdata\\local\\programs\\python\\python313\\lib\\site-packages (from -r requirements.txt (line 3)) (2.32.3)\n",
      "Requirement already satisfied: selenium in c:\\users\\thales\\appdata\\local\\programs\\python\\python313\\lib\\site-packages (from -r requirements.txt (line 4)) (4.28.1)\n",
      "Collecting replit (from -r requirements.txt (line 5))\n",
      "  Downloading replit-4.1.0-py3-none-any.whl.metadata (2.5 kB)\n",
      "Requirement already satisfied: tqdm in c:\\users\\thales\\appdata\\local\\programs\\python\\python313\\lib\\site-packages (from -r requirements.txt (line 6)) (4.67.1)\n",
      "Collecting rarfile (from -r requirements.txt (line 7))\n",
      "  Downloading rarfile-4.2-py3-none-any.whl.metadata (4.4 kB)\n",
      "Requirement already satisfied: soupsieve>1.2 in c:\\users\\thales\\appdata\\local\\programs\\python\\python313\\lib\\site-packages (from beautifulsoup4->-r requirements.txt (line 1)) (2.6)\n",
      "Requirement already satisfied: numpy>=1.26.0 in c:\\users\\thales\\appdata\\local\\programs\\python\\python313\\lib\\site-packages (from pandas->-r requirements.txt (line 2)) (2.1.3)\n",
      "Requirement already satisfied: python-dateutil>=2.8.2 in c:\\users\\thales\\appdata\\roaming\\python\\python313\\site-packages (from pandas->-r requirements.txt (line 2)) (2.9.0.post0)\n",
      "Requirement already satisfied: pytz>=2020.1 in c:\\users\\thales\\appdata\\local\\programs\\python\\python313\\lib\\site-packages (from pandas->-r requirements.txt (line 2)) (2025.1)\n",
      "Requirement already satisfied: tzdata>=2022.7 in c:\\users\\thales\\appdata\\local\\programs\\python\\python313\\lib\\site-packages (from pandas->-r requirements.txt (line 2)) (2025.1)\n",
      "Requirement already satisfied: charset-normalizer<4,>=2 in c:\\users\\thales\\appdata\\local\\programs\\python\\python313\\lib\\site-packages (from requests->-r requirements.txt (line 3)) (3.4.0)\n",
      "Requirement already satisfied: idna<4,>=2.5 in c:\\users\\thales\\appdata\\local\\programs\\python\\python313\\lib\\site-packages (from requests->-r requirements.txt (line 3)) (3.10)\n",
      "Requirement already satisfied: urllib3<3,>=1.21.1 in c:\\users\\thales\\appdata\\local\\programs\\python\\python313\\lib\\site-packages (from requests->-r requirements.txt (line 3)) (2.2.3)\n",
      "Requirement already satisfied: certifi>=2017.4.17 in c:\\users\\thales\\appdata\\local\\programs\\python\\python313\\lib\\site-packages (from requests->-r requirements.txt (line 3)) (2024.8.30)\n",
      "Requirement already satisfied: trio~=0.17 in c:\\users\\thales\\appdata\\local\\programs\\python\\python313\\lib\\site-packages (from selenium->-r requirements.txt (line 4)) (0.28.0)\n",
      "Requirement already satisfied: trio-websocket~=0.9 in c:\\users\\thales\\appdata\\local\\programs\\python\\python313\\lib\\site-packages (from selenium->-r requirements.txt (line 4)) (0.11.1)\n",
      "Requirement already satisfied: typing_extensions~=4.9 in c:\\users\\thales\\appdata\\local\\programs\\python\\python313\\lib\\site-packages (from selenium->-r requirements.txt (line 4)) (4.12.2)\n",
      "Requirement already satisfied: websocket-client~=1.8 in c:\\users\\thales\\appdata\\local\\programs\\python\\python313\\lib\\site-packages (from selenium->-r requirements.txt (line 4)) (1.8.0)\n",
      "Collecting Flask>=2.0.0 (from replit->-r requirements.txt (line 5))\n",
      "  Using cached flask-3.1.0-py3-none-any.whl.metadata (2.7 kB)\n",
      "Collecting Werkzeug<4,>=2 (from replit->-r requirements.txt (line 5))\n",
      "  Using cached werkzeug-3.1.3-py3-none-any.whl.metadata (3.7 kB)\n",
      "Collecting aiohttp>=3.6.2 (from replit->-r requirements.txt (line 5))\n",
      "  Downloading aiohttp-3.11.12-cp313-cp313-win_amd64.whl.metadata (8.0 kB)\n",
      "Collecting aiohttp-retry<3.0.0,>=2.8.3 (from replit->-r requirements.txt (line 5))\n",
      "  Downloading aiohttp_retry-2.9.1-py3-none-any.whl.metadata (8.8 kB)\n",
      "Collecting protobuf<5.0.0,>=4.21.8 (from replit->-r requirements.txt (line 5))\n",
      "  Downloading protobuf-4.25.6-cp310-abi3-win_amd64.whl.metadata (541 bytes)\n",
      "Collecting pyseto<2.0.0,>=1.6.11 (from replit->-r requirements.txt (line 5))\n",
      "  Downloading pyseto-1.8.2-py3-none-any.whl.metadata (17 kB)\n",
      "Requirement already satisfied: colorama in c:\\users\\thales\\appdata\\roaming\\python\\python313\\site-packages (from tqdm->-r requirements.txt (line 6)) (0.4.6)\n",
      "Collecting aiohappyeyeballs>=2.3.0 (from aiohttp>=3.6.2->replit->-r requirements.txt (line 5))\n",
      "  Downloading aiohappyeyeballs-2.4.6-py3-none-any.whl.metadata (5.9 kB)\n",
      "Collecting aiosignal>=1.1.2 (from aiohttp>=3.6.2->replit->-r requirements.txt (line 5))\n",
      "  Downloading aiosignal-1.3.2-py2.py3-none-any.whl.metadata (3.8 kB)\n",
      "Requirement already satisfied: attrs>=17.3.0 in c:\\users\\thales\\appdata\\local\\programs\\python\\python313\\lib\\site-packages (from aiohttp>=3.6.2->replit->-r requirements.txt (line 5)) (24.2.0)\n",
      "Collecting frozenlist>=1.1.1 (from aiohttp>=3.6.2->replit->-r requirements.txt (line 5))\n",
      "  Downloading frozenlist-1.5.0-cp313-cp313-win_amd64.whl.metadata (14 kB)\n",
      "Collecting multidict<7.0,>=4.5 (from aiohttp>=3.6.2->replit->-r requirements.txt (line 5))\n",
      "  Downloading multidict-6.1.0-cp313-cp313-win_amd64.whl.metadata (5.1 kB)\n",
      "Collecting propcache>=0.2.0 (from aiohttp>=3.6.2->replit->-r requirements.txt (line 5))\n",
      "  Downloading propcache-0.2.1-cp313-cp313-win_amd64.whl.metadata (9.5 kB)\n",
      "Collecting yarl<2.0,>=1.17.0 (from aiohttp>=3.6.2->replit->-r requirements.txt (line 5))\n",
      "  Downloading yarl-1.18.3-cp313-cp313-win_amd64.whl.metadata (71 kB)\n",
      "Requirement already satisfied: Jinja2>=3.1.2 in c:\\users\\thales\\appdata\\local\\programs\\python\\python313\\lib\\site-packages (from Flask>=2.0.0->replit->-r requirements.txt (line 5)) (3.1.4)\n",
      "Collecting itsdangerous>=2.2 (from Flask>=2.0.0->replit->-r requirements.txt (line 5))\n",
      "  Using cached itsdangerous-2.2.0-py3-none-any.whl.metadata (1.9 kB)\n",
      "Collecting click>=8.1.3 (from Flask>=2.0.0->replit->-r requirements.txt (line 5))\n",
      "  Downloading click-8.1.8-py3-none-any.whl.metadata (2.3 kB)\n",
      "Collecting blinker>=1.9 (from Flask>=2.0.0->replit->-r requirements.txt (line 5))\n",
      "  Using cached blinker-1.9.0-py3-none-any.whl.metadata (1.6 kB)\n",
      "Requirement already satisfied: argon2-cffi>=23.1.0 in c:\\users\\thales\\appdata\\local\\programs\\python\\python313\\lib\\site-packages (from pyseto<2.0.0,>=1.6.11->replit->-r requirements.txt (line 5)) (23.1.0)\n",
      "Requirement already satisfied: cryptography<45,>=42.0.1 in c:\\users\\thales\\appdata\\local\\programs\\python\\python313\\lib\\site-packages (from pyseto<2.0.0,>=1.6.11->replit->-r requirements.txt (line 5)) (44.0.1)\n",
      "Collecting iso8601<3.0.0,>=1.0.2 (from pyseto<2.0.0,>=1.6.11->replit->-r requirements.txt (line 5))\n",
      "  Downloading iso8601-2.1.0-py3-none-any.whl.metadata (3.7 kB)\n",
      "Collecting pycryptodomex>=3.18.0 (from pyseto<2.0.0,>=1.6.11->replit->-r requirements.txt (line 5))\n",
      "  Downloading pycryptodomex-3.21.0-cp36-abi3-win_amd64.whl.metadata (3.4 kB)\n",
      "Requirement already satisfied: six>=1.5 in c:\\users\\thales\\appdata\\roaming\\python\\python313\\site-packages (from python-dateutil>=2.8.2->pandas->-r requirements.txt (line 2)) (1.17.0)\n",
      "Requirement already satisfied: sortedcontainers in c:\\users\\thales\\appdata\\local\\programs\\python\\python313\\lib\\site-packages (from trio~=0.17->selenium->-r requirements.txt (line 4)) (2.4.0)\n",
      "Requirement already satisfied: outcome in c:\\users\\thales\\appdata\\local\\programs\\python\\python313\\lib\\site-packages (from trio~=0.17->selenium->-r requirements.txt (line 4)) (1.3.0.post0)\n",
      "Requirement already satisfied: sniffio>=1.3.0 in c:\\users\\thales\\appdata\\local\\programs\\python\\python313\\lib\\site-packages (from trio~=0.17->selenium->-r requirements.txt (line 4)) (1.3.1)\n",
      "Requirement already satisfied: cffi>=1.14 in c:\\users\\thales\\appdata\\local\\programs\\python\\python313\\lib\\site-packages (from trio~=0.17->selenium->-r requirements.txt (line 4)) (1.17.1)\n",
      "Requirement already satisfied: wsproto>=0.14 in c:\\users\\thales\\appdata\\local\\programs\\python\\python313\\lib\\site-packages (from trio-websocket~=0.9->selenium->-r requirements.txt (line 4)) (1.2.0)\n",
      "Requirement already satisfied: pysocks!=1.5.7,<2.0,>=1.5.6 in c:\\users\\thales\\appdata\\local\\programs\\python\\python313\\lib\\site-packages (from urllib3[socks]<3,>=1.26->selenium->-r requirements.txt (line 4)) (1.7.1)\n",
      "Requirement already satisfied: MarkupSafe>=2.1.1 in c:\\users\\thales\\appdata\\local\\programs\\python\\python313\\lib\\site-packages (from Werkzeug<4,>=2->replit->-r requirements.txt (line 5)) (3.0.2)\n",
      "Requirement already satisfied: argon2-cffi-bindings in c:\\users\\thales\\appdata\\local\\programs\\python\\python313\\lib\\site-packages (from argon2-cffi>=23.1.0->pyseto<2.0.0,>=1.6.11->replit->-r requirements.txt (line 5)) (21.2.0)\n",
      "Requirement already satisfied: pycparser in c:\\users\\thales\\appdata\\local\\programs\\python\\python313\\lib\\site-packages (from cffi>=1.14->trio~=0.17->selenium->-r requirements.txt (line 4)) (2.22)\n",
      "Requirement already satisfied: h11<1,>=0.9.0 in c:\\users\\thales\\appdata\\local\\programs\\python\\python313\\lib\\site-packages (from wsproto>=0.14->trio-websocket~=0.9->selenium->-r requirements.txt (line 4)) (0.14.0)\n",
      "Downloading replit-4.1.0-py3-none-any.whl (30 kB)\n",
      "Downloading rarfile-4.2-py3-none-any.whl (29 kB)\n",
      "Downloading aiohttp-3.11.12-cp313-cp313-win_amd64.whl (436 kB)\n",
      "Downloading aiohttp_retry-2.9.1-py3-none-any.whl (10.0 kB)\n",
      "Downloading flask-3.1.0-py3-none-any.whl (102 kB)\n",
      "Downloading protobuf-4.25.6-cp310-abi3-win_amd64.whl (413 kB)\n",
      "Downloading pyseto-1.8.2-py3-none-any.whl (29 kB)\n",
      "Downloading werkzeug-3.1.3-py3-none-any.whl (224 kB)\n",
      "Downloading aiohappyeyeballs-2.4.6-py3-none-any.whl (14 kB)\n",
      "Downloading aiosignal-1.3.2-py2.py3-none-any.whl (7.6 kB)\n",
      "Using cached blinker-1.9.0-py3-none-any.whl (8.5 kB)\n",
      "Downloading click-8.1.8-py3-none-any.whl (98 kB)\n",
      "Downloading frozenlist-1.5.0-cp313-cp313-win_amd64.whl (51 kB)\n",
      "Downloading iso8601-2.1.0-py3-none-any.whl (7.5 kB)\n",
      "Downloading itsdangerous-2.2.0-py3-none-any.whl (16 kB)\n",
      "Downloading multidict-6.1.0-cp313-cp313-win_amd64.whl (28 kB)\n",
      "Downloading propcache-0.2.1-cp313-cp313-win_amd64.whl (43 kB)\n",
      "Downloading pycryptodomex-3.21.0-cp36-abi3-win_amd64.whl (1.8 MB)\n",
      "   ---------------------------------------- 0.0/1.8 MB ? eta -:--:--\n",
      "   ---------------------------------------- 1.8/1.8 MB 39.1 MB/s eta 0:00:00\n",
      "Downloading yarl-1.18.3-cp313-cp313-win_amd64.whl (315 kB)\n",
      "Installing collected packages: Werkzeug, rarfile, pycryptodomex, protobuf, propcache, multidict, itsdangerous, iso8601, frozenlist, click, blinker, aiohappyeyeballs, yarl, Flask, aiosignal, aiohttp, pyseto, aiohttp-retry, replit\n",
      "  Attempting uninstall: blinker\n",
      "    Found existing installation: blinker 1.7.0\n",
      "    Uninstalling blinker-1.7.0:\n",
      "      Successfully uninstalled blinker-1.7.0\n",
      "Successfully installed Flask-3.1.0 Werkzeug-3.1.3 aiohappyeyeballs-2.4.6 aiohttp-3.11.12 aiohttp-retry-2.9.1 aiosignal-1.3.2 blinker-1.9.0 click-8.1.8 frozenlist-1.5.0 iso8601-2.1.0 itsdangerous-2.2.0 multidict-6.1.0 propcache-0.2.1 protobuf-4.25.6 pycryptodomex-3.21.0 pyseto-1.8.2 rarfile-4.2 replit-4.1.0 yarl-1.18.3\n",
      "Note: you may need to restart the kernel to use updated packages.\n"
     ]
    },
    {
     "name": "stderr",
     "output_type": "stream",
     "text": [
      "\n",
      "[notice] A new release of pip is available: 24.3.1 -> 25.0.1\n",
      "[notice] To update, run: python.exe -m pip install --upgrade pip\n"
     ]
    }
   ],
   "source": [
    "%pip install -r requirements.txt"
   ]
  },
  {
   "cell_type": "markdown",
   "metadata": {},
   "source": [
    "#### **1. Importing Libraries**"
   ]
  },
  {
   "cell_type": "code",
   "execution_count": null,
   "metadata": {},
   "outputs": [],
   "source": [
    "# Importing libraries\n",
    "from _functions.get_urls import get_urls\n",
    "from _functions.get_match_id import get_match_ids\n",
    "from _functions.api_request import api_request\n",
    "from _functions.download_files import download_files\n",
    "from _functions.unrar import unrar\n",
    "from _functions.extrair_dados import run_csda_on_demos\n",
    "from _ETL.merge_files import merge_csv_files\n",
    "import os"
   ]
  },
  {
   "cell_type": "code",
   "execution_count": null,
   "metadata": {},
   "outputs": [],
   "source": [
    "'''\n",
    "CT SIDE = 2\n",
    "T SIDE = 3\n",
    "'''\n",
    "\n",
    "raiz = os.getcwd()\n",
    "\n",
    "# id_event = [\"7909\", \"7903\", \"7524\", \"7557\"]\n",
    "id_event = [\"7909\", \"7903\"]\n",
    "\n",
    "match_urls, camp, camp_var = get_urls(7909)\n",
    "\n",
    "print(f\"{match_urls}\\n{camp}\\n{camp_var}\")\n",
    "\n",
    "for id in id_event:\n",
    "    # OBTER URL DE TODOS OS JOGOS DO CAMPEONATO\n",
    "    match_urls, camp, camp_var = get_urls(id)\n",
    "\n",
    "    # OBTER A ID CORRESPONDENTE A CADA CONFRONTO\n",
    "    match_ids = get_match_ids(*match_urls) \n",
    "\n",
    "    # OBTER O LINK DE DOWNLOAD DAS DEMOS CADA CONFRONTO\n",
    "    download_links = api_request(*match_ids)\n",
    "\n",
    "    # BAIXAR OS ARQUIVOS .RAR DAS DEMOS\n",
    "    download_files(*download_links, camp=camp, raiz=raiz)\n",
    "\n",
    "    # EXTRAIR OS ARQUIVOS .RAR\n",
    "    unrar(camp=camp)\n",
    "\n",
    "    demos_path = os.path.join(raiz,\"Demos\")\n",
    "    demos_path = os.path.join(demos_path,camp)\n",
    "    output_path = os.path.join(raiz,\"Dados\")\n",
    "    csda_path = os.path.join(raiz, \"csda.exe\")\n",
    "    tabelas_finais = os.path.join(raiz, \"Tabelas Finais\")\n",
    "\n",
    "    # EXTRAIR DADOS DAS DEMOS\n",
    "    run_csda_on_demos(csda_path, demos_path, output_path, camp)\n",
    "\n",
    "    merge_csv_files(camp, camp_var, output_path, tabelas_finais)"
   ]
  }
 ],
 "metadata": {
  "kernelspec": {
   "display_name": "Python 3 (ipykernel)",
   "language": "python",
   "name": "python3"
  },
  "language_info": {
   "codemirror_mode": {
    "name": "ipython",
    "version": 3
   },
   "file_extension": ".py",
   "mimetype": "text/x-python",
   "name": "python",
   "nbconvert_exporter": "python",
   "pygments_lexer": "ipython3",
   "version": "3.12.7"
  }
 },
 "nbformat": 4,
 "nbformat_minor": 4
}
