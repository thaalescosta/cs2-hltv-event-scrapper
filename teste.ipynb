{
 "cells": [
  {
   "cell_type": "markdown",
   "metadata": {},
   "source": [
    "##**1. Downloads and unpacks the demos for all chosen events**\n",
    "##### **2. Analyze the demos from all matches within chosen events**\n",
    "asa"
   ]
  },
  {
   "cell_type": "markdown",
   "metadata": {},
   "source": [
    "[Section title](#section_ID)"
   ]
  },
  {
   "cell_type": "code",
   "execution_count": null,
   "metadata": {},
   "outputs": [],
   "source": [
    "%pip install -r \"_functions/requirements.txt\""
   ]
  },
  {
   "cell_type": "markdown",
   "metadata": {},
   "source": [
    "#### **1. Importing Libraries**"
   ]
  },
  {
   "cell_type": "code",
   "execution_count": null,
   "metadata": {},
   "outputs": [],
   "source": [
    "# Importing libraries\n",
    "from _functions.get_urls import get_urls\n",
    "from _functions.get_match_id import get_match_ids\n",
    "from _functions.api_request import api_request\n",
    "from _functions.download_files import download_files\n",
    "from _functions.unrar import unrar\n",
    "from _functions.extrair_dados import run_csda_on_demos\n",
    "from _ETL.merge_files import merge_csv_files\n",
    "import os"
   ]
  },
  {
   "cell_type": "code",
   "execution_count": null,
   "metadata": {},
   "outputs": [],
   "source": [
    "'''\n",
    "CT SIDE = 2\n",
    "T SIDE = 3\n",
    "'''\n",
    "\n",
    "raiz = os.getcwd()\n",
    "\n",
    "# id_event = [\"7909\", \"7903\", \"7524\", \"7557\"]\n",
    "id_event = [\"7909\", \"7903\"]\n",
    "\n",
    "match_urls, camp, camp_var = get_urls(7909)\n",
    "\n",
    "print(f\"{match_urls}\\n{camp}\\n{camp_var}\")\n",
    "\n",
    "for id in id_event:\n",
    "    # OBTER URL DE TODOS OS JOGOS DO CAMPEONATO\n",
    "    match_urls, camp, camp_var = get_urls(id)\n",
    "\n",
    "    # OBTER A ID CORRESPONDENTE A CADA CONFRONTO\n",
    "    match_ids = get_match_ids(*match_urls) \n",
    "\n",
    "    # OBTER O LINK DE DOWNLOAD DAS DEMOS CADA CONFRONTO\n",
    "    download_links = api_request(*match_ids)\n",
    "\n",
    "    # BAIXAR OS ARQUIVOS .RAR DAS DEMOS\n",
    "    download_files(*download_links, camp=camp, raiz=raiz)\n",
    "\n",
    "    # EXTRAIR OS ARQUIVOS .RAR\n",
    "    unrar(camp=camp)\n",
    "\n",
    "    demos_path = os.path.join(raiz,\"Demos\")\n",
    "    demos_path = os.path.join(demos_path,camp)\n",
    "    output_path = os.path.join(raiz,\"Dados\")\n",
    "    csda_path = os.path.join(raiz, \"csda.exe\")\n",
    "    tabelas_finais = os.path.join(raiz, \"Tabelas Finais\")\n",
    "\n",
    "    # EXTRAIR DADOS DAS DEMOS\n",
    "    run_csda_on_demos(csda_path, demos_path, output_path, camp)\n",
    "\n",
    "    merge_csv_files(camp, camp_var, output_path, tabelas_finais)"
   ]
  }
 ],
 "metadata": {
  "kernelspec": {
   "display_name": "Python 3",
   "language": "python",
   "name": "python3"
  },
  "language_info": {
   "codemirror_mode": {
    "name": "ipython",
    "version": 3
   },
   "file_extension": ".py",
   "mimetype": "text/x-python",
   "name": "python",
   "nbconvert_exporter": "python",
   "pygments_lexer": "ipython3",
   "version": "3.13.1"
  }
 },
 "nbformat": 4,
 "nbformat_minor": 4
}
